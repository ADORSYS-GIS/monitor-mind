{
 "cells": [
  {
   "cell_type": "markdown",
   "source": [
    "# Showcase of the CPU service"
   ],
   "metadata": {
    "collapsed": false
   },
   "id": "e897164fae809986"
  },
  {
   "cell_type": "markdown",
   "source": [
    "Importing the service"
   ],
   "metadata": {
    "collapsed": false
   },
   "id": "dca709c4a4f8f257"
  },
  {
   "cell_type": "code",
   "execution_count": 1,
   "id": "initial_id",
   "metadata": {
    "collapsed": true,
    "ExecuteTime": {
     "end_time": "2023-11-09T07:33:23.232338Z",
     "start_time": "2023-11-09T07:33:23.228293Z"
    }
   },
   "outputs": [],
   "source": [
    "from services.cpu_service import calculate_cpu_usage, get_cpu_usage_array"
   ]
  },
  {
   "cell_type": "markdown",
   "source": [
    "Get CPU usage"
   ],
   "metadata": {
    "collapsed": false
   },
   "id": "c366dc19091abd3f"
  },
  {
   "cell_type": "code",
   "execution_count": 2,
   "outputs": [],
   "source": [
    "calculate_cpu_usage()"
   ],
   "metadata": {
    "collapsed": false,
    "ExecuteTime": {
     "end_time": "2023-11-09T07:33:24.240072Z",
     "start_time": "2023-11-09T07:33:23.232853Z"
    }
   },
   "id": "3f3c3a41cfdf0edf"
  },
  {
   "cell_type": "markdown",
   "source": [
    "Get CPU usage array"
   ],
   "metadata": {
    "collapsed": false
   },
   "id": "97dc608af0ff8c66"
  },
  {
   "cell_type": "code",
   "execution_count": null,
   "outputs": [],
   "source": [],
   "metadata": {
    "collapsed": false
   },
   "id": "6ae4c181b2168528"
  },
  {
   "cell_type": "code",
   "execution_count": 3,
   "outputs": [
    {
     "data": {
      "text/plain": "([1699515204237], [33.2])"
     },
     "execution_count": 3,
     "metadata": {},
     "output_type": "execute_result"
    }
   ],
   "source": [
    "get_cpu_usage_array()"
   ],
   "metadata": {
    "collapsed": false,
    "ExecuteTime": {
     "end_time": "2023-11-09T07:33:24.246202Z",
     "start_time": "2023-11-09T07:33:24.241635Z"
    }
   },
   "id": "849652dd724476ef"
  }
 ],
 "metadata": {
  "kernelspec": {
   "display_name": "Python 3",
   "language": "python",
   "name": "python3"
  },
  "language_info": {
   "codemirror_mode": {
    "name": "ipython",
    "version": 2
   },
   "file_extension": ".py",
   "mimetype": "text/x-python",
   "name": "python",
   "nbconvert_exporter": "python",
   "pygments_lexer": "ipython2",
   "version": "2.7.6"
  }
 },
 "nbformat": 4,
 "nbformat_minor": 5
}
