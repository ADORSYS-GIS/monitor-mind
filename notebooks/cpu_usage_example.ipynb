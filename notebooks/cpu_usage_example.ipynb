{
 "cells": [
  {
   "cell_type": "markdown",
   "id": "e897164fae809986",
   "metadata": {
    "collapsed": false
   },
   "source": [
    "# Showcase of the CPU service"
   ]
  },
  {
   "cell_type": "markdown",
   "id": "dca709c4a4f8f257",
   "metadata": {
    "collapsed": false
   },
   "source": [
    "Importing the service"
   ]
  },
  {
   "cell_type": "code",
   "execution_count": 2,
   "id": "initial_id",
   "metadata": {
    "ExecuteTime": {
     "end_time": "2023-11-09T07:33:23.232338Z",
     "start_time": "2023-11-09T07:33:23.228293Z"
    },
    "collapsed": true
   },
   "outputs": [
    {
     "ename": "ModuleNotFoundError",
     "evalue": "No module named 'services'",
     "output_type": "error",
     "traceback": [
      "\u001b[0;31m---------------------------------------------------------------------------\u001b[0m",
      "\u001b[0;31mModuleNotFoundError\u001b[0m                       Traceback (most recent call last)",
      "\u001b[1;32m/home/motouom/Desktop/Monitor_mind/monitor-mind/notebooks/cpu_usage_example.ipynb Cell 3\u001b[0m line \u001b[0;36m1\n\u001b[0;32m----> <a href='vscode-notebook-cell:/home/motouom/Desktop/Monitor_mind/monitor-mind/notebooks/cpu_usage_example.ipynb#W2sZmlsZQ%3D%3D?line=0'>1</a>\u001b[0m \u001b[39mfrom\u001b[39;00m \u001b[39mservices\u001b[39;00m\u001b[39m.\u001b[39;00m\u001b[39mcpu_service\u001b[39;00m \u001b[39mimport\u001b[39;00m calculate_cpu_usage, get_cpu_usage_array\n",
      "\u001b[0;31mModuleNotFoundError\u001b[0m: No module named 'services'"
     ]
    }
   ],
   "source": [
    "from services.cpu_service import calculate_cpu_usage, get_cpu_usage_array"
   ]
  },
  {
   "cell_type": "markdown",
   "id": "c366dc19091abd3f",
   "metadata": {
    "collapsed": false
   },
   "source": [
    "Get CPU usage"
   ]
  },
  {
   "cell_type": "code",
   "execution_count": 1,
   "id": "3f3c3a41cfdf0edf",
   "metadata": {
    "ExecuteTime": {
     "end_time": "2023-11-09T07:33:24.240072Z",
     "start_time": "2023-11-09T07:33:23.232853Z"
    },
    "collapsed": false
   },
   "outputs": [
    {
     "ename": "NameError",
     "evalue": "name 'calculate_cpu_usage' is not defined",
     "output_type": "error",
     "traceback": [
      "\u001b[0;31m---------------------------------------------------------------------------\u001b[0m",
      "\u001b[0;31mNameError\u001b[0m                                 Traceback (most recent call last)",
      "\u001b[1;32m/home/motouom/Desktop/Monitor_mind/monitor-mind/notebooks/cpu_usage_example.ipynb Cell 5\u001b[0m line \u001b[0;36m1\n\u001b[0;32m----> <a href='vscode-notebook-cell:/home/motouom/Desktop/Monitor_mind/monitor-mind/notebooks/cpu_usage_example.ipynb#W4sZmlsZQ%3D%3D?line=0'>1</a>\u001b[0m calculate_cpu_usage()\n",
      "\u001b[0;31mNameError\u001b[0m: name 'calculate_cpu_usage' is not defined"
     ]
    }
   ],
   "source": [
    "calculate_cpu_usage()"
   ]
  },
  {
   "cell_type": "markdown",
   "id": "97dc608af0ff8c66",
   "metadata": {
    "collapsed": false
   },
   "source": [
    "Get CPU usage array"
   ]
  },
  {
   "cell_type": "code",
   "execution_count": null,
   "id": "6ae4c181b2168528",
   "metadata": {
    "collapsed": false
   },
   "outputs": [],
   "source": []
  },
  {
   "cell_type": "code",
   "execution_count": 3,
   "id": "849652dd724476ef",
   "metadata": {
    "ExecuteTime": {
     "end_time": "2023-11-09T07:33:24.246202Z",
     "start_time": "2023-11-09T07:33:24.241635Z"
    },
    "collapsed": false
   },
   "outputs": [
    {
     "data": {
      "text/plain": [
       "([1699515204237], [33.2])"
      ]
     },
     "execution_count": 3,
     "metadata": {},
     "output_type": "execute_result"
    }
   ],
   "source": [
    "get_cpu_usage_array()"
   ]
  }
 ],
 "metadata": {
  "kernelspec": {
   "display_name": "Python 3",
   "language": "python",
   "name": "python3"
  },
  "language_info": {
   "codemirror_mode": {
    "name": "ipython",
    "version": 3
   },
   "file_extension": ".py",
   "mimetype": "text/x-python",
   "name": "python",
   "nbconvert_exporter": "python",
   "pygments_lexer": "ipython3",
   "version": "3.10.12"
  }
 },
 "nbformat": 4,
 "nbformat_minor": 5
}
