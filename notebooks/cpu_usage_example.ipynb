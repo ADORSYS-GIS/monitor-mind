{
 "cells": [
  {
   "cell_type": "markdown",
   "source": [
    "# Showcase of the CPU service"
   ],
   "metadata": {
    "collapsed": false
   },
   "id": "e897164fae809986"
  },
  {
   "cell_type": "markdown",
   "source": [
    "Importing the service"
   ],
   "metadata": {
    "collapsed": false
   },
   "id": "dca709c4a4f8f257"
  },
  {
   "cell_type": "code",
   "execution_count": 7,
   "id": "initial_id",
   "metadata": {
    "collapsed": true,
    "ExecuteTime": {
     "end_time": "2023-11-09T07:31:18.553855Z",
     "start_time": "2023-11-09T07:31:18.548688Z"
    }
   },
   "outputs": [],
   "source": [
    "from services.cpu_service import calculate_cpu_usage, get_cpu_usage_array"
   ]
  },
  {
   "cell_type": "markdown",
   "source": [
    "Get CPU usage"
   ],
   "metadata": {
    "collapsed": false
   },
   "id": "c366dc19091abd3f"
  },
  {
   "cell_type": "code",
   "execution_count": 8,
   "outputs": [],
   "source": [
    "calculate_cpu_usage()"
   ],
   "metadata": {
    "collapsed": false,
    "ExecuteTime": {
     "end_time": "2023-11-09T07:31:19.558723Z",
     "start_time": "2023-11-09T07:31:18.551756Z"
    }
   },
   "id": "3f3c3a41cfdf0edf"
  },
  {
   "cell_type": "markdown",
   "source": [
    "Get CPU usage array"
   ],
   "metadata": {
    "collapsed": false
   },
   "id": "97dc608af0ff8c66"
  },
  {
   "cell_type": "code",
   "execution_count": 9,
   "outputs": [
    {
     "data": {
      "text/plain": "([1699515074627, 1699515077385, 1699515079550], [12.4, 14.7, 14.5])"
     },
     "execution_count": 9,
     "metadata": {},
     "output_type": "execute_result"
    }
   ],
   "source": [
    "get_cpu_usage_array()"
   ],
   "metadata": {
    "collapsed": false,
    "ExecuteTime": {
     "end_time": "2023-11-09T07:31:19.563462Z",
     "start_time": "2023-11-09T07:31:19.556892Z"
    }
   },
   "id": "849652dd724476ef"
  }
 ],
 "metadata": {
  "kernelspec": {
   "display_name": "Python 3",
   "language": "python",
   "name": "python3"
  },
  "language_info": {
   "codemirror_mode": {
    "name": "ipython",
    "version": 2
   },
   "file_extension": ".py",
   "mimetype": "text/x-python",
   "name": "python",
   "nbconvert_exporter": "python",
   "pygments_lexer": "ipython2",
   "version": "2.7.6"
  }
 },
 "nbformat": 4,
 "nbformat_minor": 5
}
