{
 "cells": [
  {
   "cell_type": "markdown",
   "id": "e897164fae809986",
   "metadata": {
    "collapsed": false
   },
   "source": [
    "# Showcase of the CPU service"
   ]
  },
  {
   "cell_type": "markdown",
   "id": "dca709c4a4f8f257",
   "metadata": {
    "collapsed": false
   },
   "source": [
    "Importing the service"
   ]
  },
  {
   "cell_type": "code",
   "execution_count": 1,
   "id": "initial_id",
   "metadata": {
    "ExecuteTime": {
     "end_time": "2023-11-09T07:33:23.232338Z",
     "start_time": "2023-11-09T07:33:23.228293Z"
    },
    "collapsed": true
   },
   "outputs": [],
   "source": [
    "from services.cpu_service import calculate_cpu_usage, get_cpu_usage_array"
   ]
  },
  {
   "cell_type": "code",
   "execution_count": null,
   "metadata": {},
   "outputs": [
    {
     "data": {
      "text/plain": [
       "([1699515204237], [33.2])"
      ]
     },
     "metadata": {},
     "output_type": "display_data"
    }
   ],
   "source": [
    "get_cpu_usage_array()"
   ]
  },
  {
   "cell_type": "markdown",
   "id": "c366dc19091abd3f",
   "metadata": {
    "collapsed": false
   },
   "source": [
    "Get CPU usage"
   ]
  },
  {
   "cell_type": "code",
   "execution_count": 2,
   "id": "3f3c3a41cfdf0edf",
   "metadata": {
    "ExecuteTime": {
     "end_time": "2023-11-09T07:33:24.240072Z",
     "start_time": "2023-11-09T07:33:23.232853Z"
    },
    "collapsed": false
   },
   "outputs": [],
   "source": [
    "calculate_cpu_usage()"
   ]
  },
  {
   "cell_type": "markdown",
   "id": "97dc608af0ff8c66",
   "metadata": {
    "collapsed": false
   },
   "source": [
    "Get CPU usage array"
   ]
  },
  {
   "cell_type": "code",
   "execution_count": null,
   "id": "6ae4c181b2168528",
   "metadata": {
    "collapsed": false
   },
   "outputs": [],
   "source": [
    "get_cpu_usage_array()"
   ]
  }
 ],
 "metadata": {
  "kernelspec": {
   "display_name": "Python 3",
   "language": "python",
   "name": "python3"
  },
  "language_info": {
   "codemirror_mode": {
    "name": "ipython",
    "version": 2
   },
   "file_extension": ".py",
   "mimetype": "text/x-python",
   "name": "python",
   "nbconvert_exporter": "python",
   "pygments_lexer": "ipython2",
   "version": "2.7.6"
  }
 },
 "nbformat": 4,
 "nbformat_minor": 5
}
