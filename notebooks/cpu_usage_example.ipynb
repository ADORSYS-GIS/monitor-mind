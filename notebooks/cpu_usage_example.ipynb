{
 "cells": [
  {
   "cell_type": "markdown",
   "source": [
    "# Showcase of the CPU service"
   ],
   "metadata": {
    "collapsed": false
   },
   "id": "e897164fae809986"
  },
  {
   "cell_type": "markdown",
   "source": [
    "Importing the service"
   ],
   "metadata": {
    "collapsed": false
   },
   "id": "dca709c4a4f8f257"
  },
  {
   "cell_type": "code",
   "execution_count": 1,
   "id": "initial_id",
   "metadata": {
    "collapsed": true,
    "ExecuteTime": {
     "end_time": "2023-11-09T07:24:15.100500Z",
     "start_time": "2023-11-09T07:24:15.097461Z"
    }
   },
   "outputs": [],
   "source": [
    "from services.cpu_service import calculate_cpu_usage, get_cpu_usage_array"
   ]
  },
  {
   "cell_type": "markdown",
   "source": [
    "Get CPU usage"
   ],
   "metadata": {
    "collapsed": false
   },
   "id": "c366dc19091abd3f"
  },
  {
   "cell_type": "code",
   "execution_count": 2,
   "outputs": [],
   "source": [
    "calculate_cpu_usage()"
   ],
   "metadata": {
    "collapsed": false,
    "ExecuteTime": {
     "end_time": "2023-11-09T07:24:16.112789Z",
     "start_time": "2023-11-09T07:24:15.101490Z"
    }
   },
   "id": "3f3c3a41cfdf0edf"
  },
  {
   "cell_type": "code",
   "execution_count": 3,
   "outputs": [
    {
     "data": {
      "text/plain": "(['2023-11-09 08:24:16'], [22.3])"
     },
     "execution_count": 3,
     "metadata": {},
     "output_type": "execute_result"
    }
   ],
   "source": [
    "get_cpu_usage_array()"
   ],
   "metadata": {
    "collapsed": false,
    "ExecuteTime": {
     "end_time": "2023-11-09T07:24:16.121374Z",
     "start_time": "2023-11-09T07:24:16.113254Z"
    }
   },
   "id": "849652dd724476ef"
  }
 ],
 "metadata": {
  "kernelspec": {
   "display_name": "Python 3",
   "language": "python",
   "name": "python3"
  },
  "language_info": {
   "codemirror_mode": {
    "name": "ipython",
    "version": 2
   },
   "file_extension": ".py",
   "mimetype": "text/x-python",
   "name": "python",
   "nbconvert_exporter": "python",
   "pygments_lexer": "ipython2",
   "version": "2.7.6"
  }
 },
 "nbformat": 4,
 "nbformat_minor": 5
}
