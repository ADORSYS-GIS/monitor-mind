{
 "cells": [
  {
   "cell_type": "markdown",
   "id": "e897164fae809986",
   "metadata": {
    "collapsed": false,
    "jupyter": {
     "outputs_hidden": false
    }
   },
   "source": [
    "# Showcase of the CPU service"
   ]
  },
  {
   "cell_type": "markdown",
   "id": "dca709c4a4f8f257",
   "metadata": {
    "collapsed": false,
    "jupyter": {
     "outputs_hidden": false
    }
   },
   "source": [
    "Importing the service"
   ]
  },
  {
   "cell_type": "code",
   "execution_count": null,
   "id": "initial_id",
   "metadata": {
    "ExecuteTime": {
     "end_time": "2023-11-09T07:33:23.232338Z",
     "start_time": "2023-11-09T07:33:23.228293Z"
    }
   },
   "outputs": [],
   "source": [
    "from services.cpu_service import calculate_cpu_usage, get_cpu_usage_array"
   ]
  },
  {
   "cell_type": "markdown",
   "id": "c366dc19091abd3f",
   "metadata": {
    "collapsed": false,
    "jupyter": {
     "outputs_hidden": false
    }
   },
   "source": [
    "Get CPU usage"
   ]
  },
  {
   "cell_type": "code",
   "execution_count": 2,
   "id": "3f3c3a41cfdf0edf",
   "metadata": {
    "ExecuteTime": {
     "end_time": "2023-11-09T07:33:24.240072Z",
     "start_time": "2023-11-09T07:33:23.232853Z"
    },
    "collapsed": false,
    "jupyter": {
     "outputs_hidden": false
    }
   },
   "outputs": [
    {
     "ename": "ModuleNotFoundError",
     "evalue": "No module named 'services.cpu_service'",
     "output_type": "error",
     "traceback": [
      "\u001b[0;31m---------------------------------------------------------------------------\u001b[0m",
      "\u001b[0;31mModuleNotFoundError\u001b[0m                       Traceback (most recent call last)",
      "Cell \u001b[0;32mIn[2], line 5\u001b[0m\n\u001b[1;32m      2\u001b[0m sys\u001b[38;5;241m.\u001b[39mpath\u001b[38;5;241m.\u001b[39mappend(\u001b[38;5;124m'\u001b[39m\u001b[38;5;124m/home/bryan/disk_space/monitor-mind/services/\u001b[39m\u001b[38;5;124m'\u001b[39m)\n\u001b[1;32m      4\u001b[0m \u001b[38;5;28;01mimport\u001b[39;00m \u001b[38;5;21;01mpsutil\u001b[39;00m\n\u001b[0;32m----> 5\u001b[0m \u001b[38;5;28;01mfrom\u001b[39;00m \u001b[38;5;21;01mservices\u001b[39;00m\u001b[38;5;21;01m.\u001b[39;00m\u001b[38;5;21;01mcpu_service\u001b[39;00m \u001b[38;5;28;01mimport\u001b[39;00m calculate_cpu_usage\n\u001b[1;32m      8\u001b[0m \u001b[38;5;28;01mdef\u001b[39;00m \u001b[38;5;21mget_disk_space\u001b[39m():\n\u001b[1;32m      9\u001b[0m     partitions \u001b[38;5;241m=\u001b[39m psutil\u001b[38;5;241m.\u001b[39mdisk_partitions()\n",
      "\u001b[0;31mModuleNotFoundError\u001b[0m: No module named 'services.cpu_service'"
     ]
    }
   ],
   "source": [
    "import sys\n",
    "sys.path.append('/home/bryan/disk_space/monitor-mind/services/')\n",
    "\n",
    "import psutil\n",
    "from services.cpu_service import calculate_cpu_usage\n",
    "\n",
    "\n",
    "def get_disk_space():\n",
    "    partitions = psutil.disk_partitions()\n",
    "    disk_info = []\n",
    "    # This portion of the code is used to check Disk Usage and Availability Information\n",
    "    # Check Disk Usage Information\n",
    "    print(\"                       \")\n",
    "    print(\"Disk Usage Information\") \n",
    "    print(\"------------------------\")\n",
    "    disk_usage = psutil.disk_usage('/')\n",
    "    print(f\"Total: {disk_usage.total}\")\n",
    "    print(f\"Used: {disk_usage.used}\")\n",
    "    print(f\"Free: {disk_usage.free}\")\n",
    "    print(f\"Percentage Used: {disk_usage.percent}%\")\n",
    "\n",
    "    return disk_info\n",
    "disk_space = get_disk_space()\n",
    "\n",
    "# Check Disk Availability Information\n",
    "print(\"                             \")\n",
    "print(\"Disk Availability Information\")\n",
    "print(\"------------------------------\")\n",
    "disk_avail = psutil.disk_partitions()\n",
    "for partition in disk_avail:\n",
    "    print(f\"Device: {partition.device}\")\n",
    "    print(f\"Mountpoint: {partition.mountpoint}\")\n",
    "    print(f\"Filesystem: {partition.fstype}\")\n",
    "    print(f\"Options: {partition.opts}\")\n",
    "    print(\"----------------------------------------------------------------------------\")\n",
    "\n",
    "\n",
    "\n",
    "cpu_usage = calculate_cpu_usage()\n",
    "print(f\"CPU Usage: {cpu_usage}%\")"
   ]
  },
  {
   "cell_type": "markdown",
   "id": "97dc608af0ff8c66",
   "metadata": {
    "collapsed": false,
    "jupyter": {
     "outputs_hidden": false
    }
   },
   "source": [
    "Get CPU usage array"
   ]
  },
  {
   "cell_type": "code",
   "execution_count": null,
   "id": "6ae4c181b2168528",
   "metadata": {
    "collapsed": false,
    "jupyter": {
     "outputs_hidden": false
    }
   },
   "outputs": [],
   "source": [
    "\n"
   ]
  },
  {
   "cell_type": "code",
   "execution_count": 3,
   "id": "849652dd724476ef",
   "metadata": {
    "ExecuteTime": {
     "end_time": "2023-11-09T07:33:24.246202Z",
     "start_time": "2023-11-09T07:33:24.241635Z"
    },
    "collapsed": false,
    "jupyter": {
     "outputs_hidden": false
    }
   },
   "outputs": [
    {
     "data": {
      "text/plain": [
       "([1699515204237], [33.2])"
      ]
     },
     "execution_count": 3,
     "metadata": {},
     "output_type": "execute_result"
    }
   ],
   "source": [
    "import sys\n",
    "sys.path.append('/home/bryan/disk_space/monitor-mind/services/')\n",
    "\n",
    "import psutil\n",
    "from services.cpu_service import calculate_cpu_usage\n",
    "\n",
    "\n",
    "def get_disk_space():\n",
    "    partitions = psutil.disk_partitions()\n",
    "    disk_info = []\n",
    "    # This portion of the code is used to check Disk Usage and Availability Information\n",
    "    # Check Disk Usage Information\n",
    "    print(\"                       \")\n",
    "    print(\"Disk Usage Information\") \n",
    "    print(\"------------------------\")\n",
    "    disk_usage = psutil.disk_usage('/')\n",
    "    print(f\"Total: {disk_usage.total}\")\n",
    "    print(f\"Used: {disk_usage.used}\")\n",
    "    print(f\"Free: {disk_usage.free}\")\n",
    "    print(f\"Percentage Used: {disk_usage.percent}%\")\n",
    "\n",
    "    return disk_info\n",
    "disk_space = get_disk_space()\n",
    "\n",
    "# Check Disk Availability Information\n",
    "print(\"                             \")\n",
    "print(\"Disk Availability Information\")\n",
    "print(\"------------------------------\")\n",
    "disk_avail = psutil.disk_partitions()\n",
    "for partition in disk_avail:\n",
    "    print(f\"Device: {partition.device}\")\n",
    "    print(f\"Mountpoint: {partition.mountpoint}\")\n",
    "    print(f\"Filesystem: {partition.fstype}\")\n",
    "    print(f\"Options: {partition.opts}\")\n",
    "    print(\"----------------------------------------------------------------------------\")\n",
    "\n",
    "cpu_usage_array = get_cpu_usage_array()\n",
    "print(\"CPU Usage Array:\")\n",
    "for usage in cpu_usage_array:\n",
    "    print(usage)"
   ]
  }
 ],
 "metadata": {
  "kernelspec": {
   "display_name": "Python 3 (ipykernel)",
   "language": "python",
   "name": "python3"
  },
  "language_info": {
   "codemirror_mode": {
    "name": "ipython",
    "version": 3
   },
   "file_extension": ".py",
   "mimetype": "text/x-python",
   "name": "python",
   "nbconvert_exporter": "python",
   "pygments_lexer": "ipython3",
   "version": "3.10.12"
  }
 },
 "nbformat": 4,
 "nbformat_minor": 5
}
